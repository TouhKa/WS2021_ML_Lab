{
 "cells": [
  {
   "cell_type": "markdown",
   "metadata": {},
   "source": [
    "# Simple Classifier\n",
    "In der vorherigen Teilaufgabe haben Sie einiges über die Struktur der Daten gelernt. Nun sollen Sie dieses Wissen einsetzen um eine erste Vorhersage auf einem Testdatensatz zu treffen. Im folgenden werden die notwendigen Imports getätigt und das Dataset eingelesen."
   ]
  },
  {
   "cell_type": "markdown",
   "metadata": {},
   "source": [
    "### Imports"
   ]
  },
  {
   "cell_type": "code",
   "execution_count": 1,
   "metadata": {},
   "outputs": [],
   "source": [
    "import numpy as np\n",
    "import csv as csv\n",
    "import matplotlib.pyplot as plt\n",
    "import pandas as pd\n",
    "import itertools\n",
    "import random\n",
    "%matplotlib inline"
   ]
  },
  {
   "cell_type": "markdown",
   "metadata": {},
   "source": [
    "### Daten einlesen"
   ]
  },
  {
   "cell_type": "code",
   "execution_count": 3,
   "metadata": {},
   "outputs": [],
   "source": [
    "DATA_FILE = './Data/original_titanic.csv'\n",
    "df = pd.read_csv(DATA_FILE)"
   ]
  },
  {
   "cell_type": "markdown",
   "metadata": {},
   "source": [
    "### Datenlücken interpolieren\n",
    "\n",
    "Gerne können Sie zum Füllen der Datenlücken auch Ihre Implementierung aus der vorherigen Teilaufgabe einsetzen."
   ]
  },
  {
   "cell_type": "code",
   "execution_count": 4,
   "metadata": {},
   "outputs": [],
   "source": [
    "def prepareData(df):\n",
    "    #to set a selection of a data frame please dont use the chained [] operator, but the .loc operator\n",
    "    #(see http://pandas.pydata.org/pandas-docs/stable/indexing.html#indexing-view-versus-copy for details)\n",
    "    \n",
    "    #minimal working example to set all null age values to 42 - probably you can do better :-)\n",
    "#     df.loc[df.Age.isnull(),'Age'] = 42\n",
    "#     return df\n",
    "\n",
    "    #df.loc[:,'Age'].interpolate(method='pad', inplace= True) #using existing values to fill NaN values\n",
    "    df.loc[np.isnan(df[\"Age\"]) & (df['Sex']=='female'), 'Age'] = df.loc[df['Sex']=='female', 'Age'].mean()\n",
    "    df.loc[np.isnan(df[\"Age\"]) & (df['Sex']=='male'), 'Age'] = df.loc[df['Sex']=='male', 'Age'].mean()\n",
    "    \n",
    "prepareData(df)\n",
    "\n"
   ]
  },
  {
   "cell_type": "markdown",
   "metadata": {},
   "source": [
    "### Datensatz stochastisch verändern\n",
    "\n",
    "Es wird der komplette Datensatz durchmischt. Finden Sie hierfür geeignete Methoden (Python, Numpy, Pandas). Geben Sie die ersten fünf Zeilen des durchmischten Datensatzes aus. Weisen Sie nach, dass lediglich die Reihenfolge der Daten geändert wurde und <b>nicht(!)</b> die Merkmals-Spalten."
   ]
  },
  {
   "cell_type": "code",
   "execution_count": 5,
   "metadata": {},
   "outputs": [
    {
     "name": "stdout",
     "output_type": "stream",
     "text": [
      "Original:    PassengerId  Survived  Pclass  \\\n",
      "4            5         0       1   \n",
      "\n",
      "                                              Name     Sex   Age  SibSp  \\\n",
      "4  Allison, Mrs. Hudson J C (Bessie Waldo Daniels)  female  25.0      1   \n",
      "\n",
      "   Parch  Ticket    Fare    Cabin Embarked                        Home-Dest  \n",
      "4      2  113781  151.55  C22 C26        S  Montreal, PQ / Chesterville, ON  :\n",
      "\n",
      "Suffled:      PassengerId  Survived  Pclass  \\\n",
      "535            5         0       1   \n",
      "\n",
      "                                                Name     Sex   Age  SibSp  \\\n",
      "535  Allison, Mrs. Hudson J C (Bessie Waldo Daniels)  female  25.0      1   \n",
      "\n",
      "     Parch  Ticket    Fare    Cabin Embarked                        Home-Dest  \n",
      "535      2  113781  151.55  C22 C26        S  Montreal, PQ / Chesterville, ON  :\n",
      "\n",
      "   PassengerId  Survived  Pclass  \\\n",
      "0          993         0       3   \n",
      "1          232         1       1   \n",
      "2          510         0       2   \n",
      "3         1293         0       3   \n",
      "4          786         1       3   \n",
      "\n",
      "                                                Name     Sex        Age  \\\n",
      "0                                 Mangan, Miss. Mary  female  30.500000   \n",
      "1                     Peuchen, Major. Arthur Godfrey    male  52.000000   \n",
      "2     Morley, Mr. Henry Samuel (\"Mr Henry Marshall\")    male  39.000000   \n",
      "3                                 Willey, Mr. Edward    male  30.585228   \n",
      "4  Dyker, Mrs. Adolf Fredrik (Anna Elisabeth Judi...  female  22.000000   \n",
      "\n",
      "   SibSp  Parch         Ticket   Fare Cabin Embarked       Home-Dest  \n",
      "0      0      0         364850   7.75   NaN        Q             NaN  \n",
      "1      0      0         113786  30.50  C104        S     Toronto, ON  \n",
      "2      0      0         250655  26.00   NaN        S             NaN  \n",
      "3      0      0  S.O./P.P. 751   7.55   NaN        S             NaN  \n",
      "4      1      0         347072  13.90   NaN        S  West Haven, CT  \n"
     ]
    }
   ],
   "source": [
    "print(\"Original: {}:\\n\".format(df[df['PassengerId']==5]))\n",
    "df_shuffled = df.sample(frac = 1).reset_index(drop=True) \n",
    "print(\"Suffled: {}:\\n\".format(df_shuffled[df_shuffled['PassengerId']==5]))\n",
    "\n",
    "print(df_shuffled[:5])"
   ]
  },
  {
   "cell_type": "markdown",
   "metadata": {},
   "source": [
    "### Aufteilung in Trainings- und Testdatensatz\n",
    "\n",
    "Teilen Sie den stochastisch veränderten Datensatz in Trainings- und Testdatensatz mit der Verteilung von 80% (Train) zu 20% (Test) auf. Geben Sie die Länge der Datensätze aus."
   ]
  },
  {
   "cell_type": "code",
   "execution_count": 6,
   "metadata": {},
   "outputs": [],
   "source": [
    "len_all = len(df_shuffled)\n",
    "len_train = round(len_all * 0.8, 0)\n",
    "len_test = round(len_all * 0.2, 0)\n",
    "\n",
    "df_train = df_shuffled[: int(len_train)]\n",
    "df_test  = df_shuffled[: int(len_test)]"
   ]
  },
  {
   "cell_type": "markdown",
   "metadata": {},
   "source": [
    "### Performance von Machine Learing Algorithmen\n",
    "\n",
    "Die Performance von Machine Learing Algorithmen kann unter anderem anhand der Korreklassifizierungsrate (engl. Accuracy) ermittelt werden. Diese wird über die Verwechslungsmatrix (engl. Confusion matrix) (siehe Abbildung) wie folgt definiert: <br>\n",
    "\n",
    "TP = True Positive <br>\n",
    "TN = True Negative <br>\n",
    "FP = False Positive <br>\n",
    "FN = False Negative <br>\n",
    "ACC = Accuracy <br>\n",
    "\n",
    "$ACC = \\frac{(TP + TN)} {(TP+TN+FP+FN)}$\n",
    "\n",
    "<img src=\"./Figures/Confusion-Matrix.png\" alt=\"drawing\" style=\"width:300px;\"/>\n",
    "\n"
   ]
  },
  {
   "cell_type": "markdown",
   "metadata": {},
   "source": [
    "### Implementierung des Algorithmus"
   ]
  },
  {
   "cell_type": "markdown",
   "metadata": {},
   "source": [
    "Schreiben Sie eine Funktion um die Klasse *Survived*, mit ihren beiden Ausprägungen 0 und 1, anhand von einem oder mehreren Merkmalen vorherzusagen. Verwenden Sie dazu ein einfaches Modell in welchem Sie ihr bisheriges Wissen über den Datensatz einsetzen."
   ]
  },
  {
   "cell_type": "code",
   "execution_count": 12,
   "metadata": {},
   "outputs": [],
   "source": [
    "def predict(passenger):\n",
    "    # anhand der in a erhaltenen Erkenntnisse, über Trennungswirksame merkmale\n",
    "    #wahrscheinlicher -> überlebt wenn in klasse 1, unwahrscheinlicher wenn in klasse 3\n",
    "    # unwahrscheinlich, wenn älter als 65 dass tot\n",
    "    #wenn frau wahrschienlicher\n",
    "    # TODO: implement\n",
    "    if passenger.Age > 65:\n",
    "        return 0\n",
    "        \n",
    "    if passenger.Sex == \"female\":\n",
    "        if passenger.Pclass != 3:\n",
    "            return 1\n",
    "       \n",
    "        r = random.randint(0,100)\n",
    "        if r <50: \n",
    "            return 0\n",
    "        if r >= 50:\n",
    "            return 1\n",
    "\n",
    "    else:\n",
    "            \n",
    "        return 0"
   ]
  },
  {
   "cell_type": "markdown",
   "metadata": {},
   "source": [
    "### Testen des Algorithmus"
   ]
  },
  {
   "cell_type": "markdown",
   "metadata": {},
   "source": [
    "Testen Sie die predict() Methode mit den Datenobjekten aus dem Testdatensatz. Ermitteln sie hierzu die Korreklassifizierungsrate."
   ]
  },
  {
   "cell_type": "code",
   "execution_count": 8,
   "metadata": {},
   "outputs": [
    {
     "name": "stdout",
     "output_type": "stream",
     "text": [
      "Sample to predict:\n",
      "PassengerId                 1123\n",
      "Survived                       1\n",
      "Pclass                         3\n",
      "Name           Peter, Miss. Anna\n",
      "Sex                       female\n",
      "Age                      28.6871\n",
      "SibSp                          1\n",
      "Parch                          1\n",
      "Ticket                      2668\n",
      "Fare                     22.3583\n",
      "Cabin                      F E69\n",
      "Embarked                       C\n",
      "Home-Dest                    NaN\n",
      "Name: 165, dtype: object\n",
      "Prediction: Dead\n"
     ]
    }
   ],
   "source": [
    "# TODO: implement\n",
    "# for one data set-> Testing predict()\n",
    "\n",
    "rand = random.randint(0, len(df_test))\n",
    "print(\"Sample to predict:\\n{}\".format(df_test.iloc[rand]))\n",
    "prediction = predict(df_test.iloc[rand])\n",
    "print(\"Prediction: {}\".format(\"Survivor\" if prediction== 1 else \"Dead\"))"
   ]
  },
  {
   "cell_type": "code",
   "execution_count": 13,
   "metadata": {},
   "outputs": [
    {
     "name": "stdout",
     "output_type": "stream",
     "text": [
      "True Positives: 66\n",
      "True Negatives: 144\n",
      "False Positives: 15\n",
      "False Negatives: 37\n",
      "Accurency: 0.801527\n"
     ]
    }
   ],
   "source": [
    "predictions = []\n",
    "labels = []\n",
    "for idx,row in df_test.iterrows():\n",
    "    predictions.append(predict(row))\n",
    "    labels.append(row.loc['Survived'])\n",
    "    \n",
    "tp = 0\n",
    "fp = 0\n",
    "fn = 0\n",
    "tn = 0\n",
    "for idx, val in enumerate(labels):\n",
    "    pred = predictions[idx]\n",
    "    if val == predictions[idx]:\n",
    "        if val == 1:\n",
    "            tp +=1\n",
    "        else:\n",
    "            tn += 1\n",
    "            \n",
    "    else: \n",
    "        if val == 1:\n",
    "            fn +=1\n",
    "        else:\n",
    "            fp += 1\n",
    "        \n",
    "                \n",
    "print(\"True Positives: %d\" %tp)   \n",
    "print(\"True Negatives: %d\" %tn)\n",
    "\n",
    "print(\"False Positives: %d\" %fp)\n",
    "print(\"False Negatives: %d\" %fn)\n",
    "\n",
    "acc = (tp + tn) / (tp + tn + fp + fn)\n",
    "print(\"Accurency: %f\" %acc)"
   ]
  },
  {
   "cell_type": "markdown",
   "metadata": {},
   "source": [
    "### Acc \n",
    "Nur mit Test auf \"Male\"/\"Female\":\n",
    "True Positives: 75\n",
    "True Negatives: 133\n",
    "False Positives: 26\n",
    "False Negatives: 28\n",
    "Accurency: 0.793893\n",
    "\n",
    "Mit random distribution für Frauen der 3. Passagierklasse\n",
    "True Positives: 66\n",
    "True Negatives: 144\n",
    "False Positives: 15\n",
    "False Negatives: 37\n",
    "Accurency: 0.801527"
   ]
  },
  {
   "cell_type": "code",
   "execution_count": null,
   "metadata": {},
   "outputs": [],
   "source": []
  },
  {
   "cell_type": "code",
   "execution_count": null,
   "metadata": {},
   "outputs": [],
   "source": []
  }
 ],
 "metadata": {
  "kernelspec": {
   "display_name": "Python 3",
   "language": "python",
   "name": "python3"
  },
  "language_info": {
   "codemirror_mode": {
    "name": "ipython",
    "version": 3
   },
   "file_extension": ".py",
   "mimetype": "text/x-python",
   "name": "python",
   "nbconvert_exporter": "python",
   "pygments_lexer": "ipython3",
   "version": "3.8.5"
  }
 },
 "nbformat": 4,
 "nbformat_minor": 2
}
