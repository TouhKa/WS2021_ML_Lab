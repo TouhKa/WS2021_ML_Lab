{
 "cells": [
  {
   "cell_type": "markdown",
   "metadata": {},
   "source": [
    "# Simple Classifier\n",
    "In der vorherigen Teilaufgabe haben Sie einiges über die Struktur der Daten gelernt. Nun sollen Sie dieses Wissen einsetzen um eine erste Vorhersage auf einem Testdatensatz zu treffen. Im folgenden werden die notwendigen Imports getätigt und das Dataset eingelesen."
   ]
  },
  {
   "cell_type": "markdown",
   "metadata": {},
   "source": [
    "### Imports"
   ]
  },
  {
   "cell_type": "code",
   "execution_count": 38,
   "metadata": {},
   "outputs": [],
   "source": [
    "import numpy as np\n",
    "import csv as csv\n",
    "import matplotlib.pyplot as plt\n",
    "import pandas as pd\n",
    "import itertools\n",
    "import random\n",
    "%matplotlib inline"
   ]
  },
  {
   "cell_type": "markdown",
   "metadata": {},
   "source": [
    "### Daten einlesen"
   ]
  },
  {
   "cell_type": "code",
   "execution_count": 39,
   "metadata": {},
   "outputs": [],
   "source": [
    "DATA_FILE = './Data/original_titanic.csv'\n",
    "df = pd.read_csv(DATA_FILE)"
   ]
  },
  {
   "cell_type": "markdown",
   "metadata": {},
   "source": [
    "### Datenlücken interpolieren\n",
    "\n",
    "Gerne können Sie zum Füllen der Datenlücken auch Ihre Implementierung aus der vorherigen Teilaufgabe einsetzen."
   ]
  },
  {
   "cell_type": "code",
   "execution_count": 40,
   "metadata": {},
   "outputs": [],
   "source": [
    "def prepareData(df):\n",
    "    #to set a selection of a data frame please dont use the chained [] operator, but the .loc operator\n",
    "    #(see http://pandas.pydata.org/pandas-docs/stable/indexing.html#indexing-view-versus-copy for details)\n",
    "    \n",
    "    #minimal working example to set all null age values to 42 - probably you can do better :-)\n",
    "#     df.loc[df.Age.isnull(),'Age'] = 42\n",
    "#     return df\n",
    "\n",
    "    df.loc[:,'Age'].interpolate(method='pad', inplace= True) #using existing values to fill NaN values\n",
    "    \n",
    "prepareData(df)"
   ]
  },
  {
   "cell_type": "markdown",
   "metadata": {},
   "source": [
    "### Datensatz stochastisch verändern\n",
    "\n",
    "Es wird der komplette Datensatz durchmischt. Finden Sie hierfür geeignete Methoden (Python, Numpy, Pandas). Geben Sie die ersten fünf Zeilen des durchmischten Datensatzes aus. Weisen Sie nach, dass lediglich die Reihenfolge der Daten geändert wurde und <b>nicht(!)</b> die Merkmals-Spalten."
   ]
  },
  {
   "cell_type": "code",
   "execution_count": 41,
   "metadata": {},
   "outputs": [
    {
     "name": "stdout",
     "output_type": "stream",
     "text": [
      "Original:    PassengerId  Survived  Pclass  \\\n",
      "4            5         0       1   \n",
      "\n",
      "                                              Name     Sex   Age  SibSp  \\\n",
      "4  Allison, Mrs. Hudson J C (Bessie Waldo Daniels)  female  25.0      1   \n",
      "\n",
      "   Parch  Ticket    Fare    Cabin Embarked                        Home-Dest  \n",
      "4      2  113781  151.55  C22 C26        S  Montreal, PQ / Chesterville, ON  :\n",
      "\n",
      "Suffled:      PassengerId  Survived  Pclass  \\\n",
      "461            5         0       1   \n",
      "\n",
      "                                                Name     Sex   Age  SibSp  \\\n",
      "461  Allison, Mrs. Hudson J C (Bessie Waldo Daniels)  female  25.0      1   \n",
      "\n",
      "     Parch  Ticket    Fare    Cabin Embarked                        Home-Dest  \n",
      "461      2  113781  151.55  C22 C26        S  Montreal, PQ / Chesterville, ON  :\n",
      "\n",
      "   PassengerId  Survived  Pclass                          Name   Sex   Age  \\\n",
      "0         1006         0       3           McEvoy, Mr. Michael  male  33.0   \n",
      "1          632         0       3   Andersson, Mr. Johan Samuel  male  26.0   \n",
      "2          885         0       3       Jensen, Mr. Niels Peder  male  48.0   \n",
      "3          519         0       2  Nicholls, Mr. Joseph Charles  male  19.0   \n",
      "4         1252         0       3    Tomlin, Mr. Ernest Portage  male  30.5   \n",
      "\n",
      "   SibSp  Parch      Ticket     Fare Cabin Embarked               Home-Dest  \n",
      "0      0      0       36568  15.5000   NaN        Q                     NaN  \n",
      "1      0      0      347075   7.7750   NaN        S            Hartford, CT  \n",
      "2      0      0      350047   7.8542   NaN        S                     NaN  \n",
      "3      1      1  C.A. 33112  36.7500   NaN        S  Cornwall / Hancock, MI  \n",
      "4      0      0      364499   8.0500   NaN        S                     NaN  \n"
     ]
    }
   ],
   "source": [
    "print(\"Original: {}:\\n\".format(df[df['PassengerId']==5]))\n",
    "df_shuffled = df.sample(frac = 1).reset_index(drop=True) \n",
    "print(\"Suffled: {}:\\n\".format(df_shuffled[df_shuffled['PassengerId']==5]))\n",
    "\n",
    "print(df_shuffled[:5])"
   ]
  },
  {
   "cell_type": "markdown",
   "metadata": {},
   "source": [
    "### Aufteilung in Trainings- und Testdatensatz\n",
    "\n",
    "Teilen Sie den stochastisch veränderten Datensatz in Trainings- und Testdatensatz mit der Verteilung von 80% (Train) zu 20% (Test) auf. Geben Sie die Länge der Datensätze aus."
   ]
  },
  {
   "cell_type": "code",
   "execution_count": 42,
   "metadata": {},
   "outputs": [],
   "source": [
    "len_all = len(df_shuffled)\n",
    "len_train = round(len_all * 0.8, 0)\n",
    "len_test = round(len_all * 0.2, 0)\n",
    "\n",
    "df_train = df_shuffled[: int(len_train)]\n",
    "df_test  = df_shuffled[: int(len_test)]"
   ]
  },
  {
   "cell_type": "markdown",
   "metadata": {},
   "source": [
    "### Performance von Machine Learing Algorithmen\n",
    "\n",
    "Die Performance von Machine Learing Algorithmen kann unter anderem anhand der Korreklassifizierungsrate (engl. Accuracy) ermittelt werden. Diese wird über die Verwechslungsmatrix (engl. Confusion matrix) (siehe Abbildung) wie folgt definiert: <br>\n",
    "\n",
    "TP = True Positive <br>\n",
    "TN = True Negative <br>\n",
    "FP = False Positive <br>\n",
    "FN = False Negative <br>\n",
    "ACC = Accuracy <br>\n",
    "\n",
    "$ACC = \\frac{(TP + TN)} {(TP+TN+FP+FN)}$\n",
    "\n",
    "<img src=\"./Figures/Confusion-Matrix.png\" alt=\"drawing\" style=\"width:300px;\"/>\n",
    "\n"
   ]
  },
  {
   "cell_type": "markdown",
   "metadata": {},
   "source": [
    "### Implementierung des Algorithmus"
   ]
  },
  {
   "cell_type": "markdown",
   "metadata": {},
   "source": [
    "Schreiben Sie eine Funktion um die Klasse *Survived*, mit ihren beiden Ausprägungen 0 und 1, anhand von einem oder mehreren Merkmalen vorherzusagen. Verwenden Sie dazu ein einfaches Modell in welchem Sie ihr bisheriges Wissen über den Datensatz einsetzen."
   ]
  },
  {
   "cell_type": "code",
   "execution_count": 62,
   "metadata": {},
   "outputs": [],
   "source": [
    "def predict(passenger):\n",
    "    # anhand der in a erhaltenen Erkenntnisse, über Trennungswirksame merkmale\n",
    "    #wahrscheinlicher -> überlebt wenn in klasse 1, unwahrscheinlicher wenn in klasse 3\n",
    "    # unwahrscheinlich, wenn älter als 65 dass tot\n",
    "    #wenn frau wahrschienlicher\n",
    "    # TODO: implement\n",
    "    if passenger.Age > 65:\n",
    "        return 0\n",
    "        \n",
    "    if passenger.Sex == \"female\":\n",
    "        if passenger.Pclass != 3:\n",
    "            return 1\n",
    "       \n",
    "        r = random.randint(0,100)\n",
    "        if r <50: \n",
    "            return 0\n",
    "        if r >= 50:\n",
    "            return 1\n",
    "            \n",
    "    else:\n",
    "        if passenger.Pclass != 3:\n",
    "            return 1\n",
    "       \n",
    "        return 0"
   ]
  },
  {
   "cell_type": "markdown",
   "metadata": {},
   "source": [
    "### Testen des Algorithmus"
   ]
  },
  {
   "cell_type": "markdown",
   "metadata": {},
   "source": [
    "Testen Sie die predict() Methode mit den Datenobjekten aus dem Testdatensatz. Ermitteln sie hierzu die Korreklassifizierungsrate."
   ]
  },
  {
   "cell_type": "code",
   "execution_count": 50,
   "metadata": {},
   "outputs": [
    {
     "name": "stdout",
     "output_type": "stream",
     "text": [
      "Sample to predict:\n",
      "PassengerId                                     844\n",
      "Survived                                          0\n",
      "Pclass                                            3\n",
      "Name           Hagland, Mr. Konrad Mathias Reiersen\n",
      "Sex                                            male\n",
      "Age                                              17\n",
      "SibSp                                             1\n",
      "Parch                                             0\n",
      "Ticket                                        65304\n",
      "Fare                                        19.9667\n",
      "Cabin                                           NaN\n",
      "Embarked                                          S\n",
      "Home-Dest                                       NaN\n",
      "Name: 144, dtype: object\n",
      "Prediction: Dead\n"
     ]
    }
   ],
   "source": [
    "# TODO: implement\n",
    "# for one data set-> Testing predict()\n",
    "\n",
    "rand = random.randint(0, len(df_test))\n",
    "print(\"Sample to predict:\\n{}\".format(df_test.iloc[rand]))\n",
    "prediction = predict(df_test.iloc[rand])\n",
    "print(\"Prediction: {}\".format(\"Survivor\" if prediction== 1 else \"Dead\"))"
   ]
  },
  {
   "cell_type": "code",
   "execution_count": 67,
   "metadata": {},
   "outputs": [
    {
     "name": "stdout",
     "output_type": "stream",
     "text": [
      "True Positives: 85\n",
      "True Negatives: 91\n",
      "False Positives: 68\n",
      "False Negatives: 18\n",
      "Accurency: 0.671756\n"
     ]
    }
   ],
   "source": [
    "predictions = []\n",
    "labels = []\n",
    "for idx,row in df_test.iterrows():\n",
    "    predictions.append(predict(row))\n",
    "    labels.append(row.loc['Survived'])\n",
    "    \n",
    "tp = 0\n",
    "fp = 0\n",
    "fn = 0\n",
    "tn = 0\n",
    "for idx, val in enumerate(labels):\n",
    "    pred = predictions[idx]\n",
    "    if val == predictions[idx]:\n",
    "        if val == 1:\n",
    "            tp +=1\n",
    "        else:\n",
    "            tn += 1\n",
    "            \n",
    "    else: \n",
    "        if val == 1:\n",
    "            fn +=1\n",
    "        else:\n",
    "            fp += 1\n",
    "        \n",
    "                \n",
    "print(\"True Positives: %d\" %tp)   \n",
    "print(\"True Negatives: %d\" %tn)\n",
    "\n",
    "print(\"False Positives: %d\" %fp)\n",
    "print(\"False Negatives: %d\" %fn)\n",
    "\n",
    "acc = (tp + tn) / (tp + tn + fp + fn)\n",
    "print(\"Accurency: %f\" %acc)"
   ]
  },
  {
   "cell_type": "code",
   "execution_count": null,
   "metadata": {},
   "outputs": [],
   "source": []
  },
  {
   "cell_type": "code",
   "execution_count": null,
   "metadata": {},
   "outputs": [],
   "source": []
  },
  {
   "cell_type": "code",
   "execution_count": null,
   "metadata": {},
   "outputs": [],
   "source": []
  }
 ],
 "metadata": {
  "kernelspec": {
   "display_name": "Python 3",
   "language": "python",
   "name": "python3"
  },
  "language_info": {
   "codemirror_mode": {
    "name": "ipython",
    "version": 3
   },
   "file_extension": ".py",
   "mimetype": "text/x-python",
   "name": "python",
   "nbconvert_exporter": "python",
   "pygments_lexer": "ipython3",
   "version": "3.8.5"
  }
 },
 "nbformat": 4,
 "nbformat_minor": 2
}
