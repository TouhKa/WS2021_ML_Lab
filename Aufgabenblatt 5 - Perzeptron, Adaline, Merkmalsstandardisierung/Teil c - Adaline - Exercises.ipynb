{
 "cells": [
  {
   "cell_type": "markdown",
   "metadata": {},
   "source": [
    "# Teil c - Adaline"
   ]
  },
  {
   "cell_type": "markdown",
   "metadata": {},
   "source": [
    "# Adaptives Lineares Neuron (Adaline)"
   ]
  },
  {
   "cell_type": "markdown",
   "metadata": {},
   "source": [
    "## Weiterentwicklung des Perzeptrons\n",
    "\n",
    "Das Perzeptron liefert keine stabile Lösung, falls das Problem nicht linear trennbar ist. Stabil bedeutet, wenn ein neues Trainingsbeispiel betrachtet wird, nicht sofort alles vergisst, was bis zu diesem Zeitpunkt gelernt wurde. Aus diesem Grund haben Widrow und Hoff ein neuronales Netz vorgeschlagen, das genau diese Eigenschaften besitzt. Sie nannten es *adaptive linear* (ADAptive LInear Neuron) bzw. Adaline. Adaline ist ein weiteres neuronales Netz mit einer einzigen Schicht. Adaline wurde nur wenige Jahre nach dem Perzeptron-Algorithmus veröffentlicht und kann als Verbesserung aufgefasst werden. Es bildet die Grundlage für fortgeschrittene Lernalgorithmen für die Klassifizierung, wie bspw. die logistische Regression, Support Vector Machines, Multi-layer Perceptrons, etc.\n",
    "\n",
    "### Änderungen der Gewichtungen\n",
    "Die Berechnung der Änderungen der Gewichte findet bei beiden Algorithmen unterschiedlich statt: <br>\n",
    "\n",
    "<b>Perzeptron</b>: <br>\n",
    "\n",
    "Beim Perzeptron wird der Ouput, dh die Klassifikation des Inputs, zur Fehlerkorrektur verwendet. Das bedeutet, dass ein Binärwert für die Fehlerkorrektur verwendet wird. <br>\n",
    "\n",
    "$\\Delta w_j = \\eta \\cdot (y^{(i)} - \\hat{y}^{(i)}) \\cdot x_j^{(i)}$ <br>\n",
    "\n",
    "<b>Adaline</b>: <br>\n",
    "\n",
    "\n",
    "Beim Adaline wird der Net Input (dh die gewichtete summe $s$ bzw. $net$) zur Fehlerkorrektur verwendet. Das bedeutet, dass ein kontinuierlicher Wert für die Fehlerkorrektur verwendet wird. Das sorgt dafür, dass die Änderungen an den Gewichten besser in Relation zu den Fehlern stehen. Ein weiterer Unterschied beim Adaline-Algorithmus ist, dass die Berechnung der Gewichtsaktualisierung auf allen Trainingsobjekten erfolgt. Aus diesem Grund wird diese Form des Lernalgorithmus als Stapelverarbeitung bezeichnet.\n",
    "\n",
    "\n",
    "$\\Delta w_j = \\eta \\cdot (y - net) \\cdot x_j$ <br>\n",
    "\n",
    "### Lernen im Adaline-Algorithmus\n",
    "\n",
    "Der wesentliche Unterschied des Adaline-Algorithmus besteht darin, dass die Aktualisierung der Gewichtungen auf einer linearen Aktivierungsfunktion beruht. Allerdings ist $\\phi(s)$ mit $s$ = $\\vec{w}^T \\vec{x} +w_0$ eine reele Zahl und keine ganzzahlige Klassenbezeichnung.  Bei Adaline ist diese Funktion $\\phi(s)$ einfach die identische Abbildung der Nettoeingabefunktion, sodass $\\phi(s) = \\vec{w}^T \\vec{x}+w_0$. Die lineare Aktivierungsfunktion wird dazu genutzt die Gewichtungen zu lernen. Anschließend kann eine Schwellenwertfunktion (besitzt Ähnlichkeit mit der bereits bekannten Sprungfunktion) verwendet werden, um die Klassenbezeichnungen vorherzusagen. <br>\n",
    "\n",
    "Bei fortgeschrittenen Lernalgorithmen, wie bspw. dem Multi-layer Perceptron, kann als Aktivierungsfunktion die Sigmoid-Funktion ( [Siehe Web-Link](https://en.wikipedia.org/wiki/Sigmoid_function) ) eingesetzt werden.\n",
    "\n",
    "Folgende Abbildung zeigt, dass der Adaline-Algorithmus die tatsächlichen Klassenzeichnungen mit den stetigen Ausgaben der linearen Aktivierungsfunktion vergleicht. Um Fehler des Modells zu berechnen und die Gewichtungen zu aktualisieren. <br>\n",
    "\n",
    "\n",
    "\n",
    "\n",
    "<img src=\"./Figures/Adaline.png\" alt=\"drawing\" style=\"width:600px;\"/>\n",
    "\n",
    "\n",
    "Zum Vergleich, das Perzeptron aktualisiert die Gewichtungen nach jedem Objekt inkrementell. Des Weiteren beruht beim Perzeptron die Aktualisierung der Gewichtungen auf einer einfachen Sprungfunktion. Das Perzeptron vergleicht die tatsächlichen Klassenzeichnungen mit den vorhergesagten Klassenzeichnungen.\n",
    "\n",
    "<img src=\"./Figures/Perzeptron.png\" alt=\"drawing\" style=\"width:600px;\"/>"
   ]
  },
  {
   "cell_type": "markdown",
   "metadata": {},
   "source": [
    "## Implementierung\n",
    "\n",
    "Die Implementierungen der Adaline-Regel und der Perzeptron-Regel sind sich sehr ähnlich. Die Implementierung erfolgt innerhalb der Klasse <b>Adaline</b>. Im folgenden werden die einzelnen Methoden und deren Funktionsweise kurz vorgestellt. <br>\n",
    "\n",
    "#### Konstruktor\n",
    "Das Perceptron-Objekt wird mit der Lernrate <b>eta</b> und der Anzahl der Epochen (Durchläufe der Trainingsdaten) <b>epochs</b> initialisiert. Wählen Sie geeignete Werte für die Epoche (Anzahl der Durchläufe) und die Lernrate Eta.\n",
    "\n",
    "#### activation()-Methode:\n",
    "Diese Funktion bewirkt im Code nichts, denn es handelt sich um eine Identitätsfunktion. Sie existiert zur Demonstration, wie Informationen durch ein einschichtiges Neuronales Netz fließen: Merkmale der Eingabedaten, Nettoeingabe, Aktivierungsfunktion und Ausgabe. <br>\n",
    "\n",
    "Weitere Klassifizierer (wie bspw. logistische Regression, Multi-layer Perzeptron, etc.) sind sehr eng mit Adaline verwandt. Denn sie unterscheiden sich in der Aktivierungs- und Straffunktion.\n",
    "\n",
    "#### fit()-Methode:\n",
    "\n",
    "<b>Gewichtungen</b>: <br>\n",
    "Die Gewichtungen werden wie beim Perzeptron initialisiert. <br>\n",
    "Die Aktualisierung der Gewichtung der Bias-Einheit wird anhand der Summe der Errors berechnet.<br>\n",
    "Die Aktualisierung der weiteren Gewichtungen von 1 bis m wird anhand <b>X.T.dot(errors)</b> berechnet. Hierbei handelt es sich um eine *Matrix-Vektor-Multiplikation* von Merkmalsmatrix und Fehlervektor. <br>\n",
    "\n",
    "Die Berechnung der Gewichtsaktualisierung erfolgt auf allen Trainingsobjekten. Zum Vergleich, beim Perzeptron werden die Gewichtungen nach der Berechnung jedes einzelnen Trainingsexemplar aktualisiert. <br>\n",
    "\n",
    "Sammeln Sie in einer Liste <b>cost</b> die in jeder Epoche auftretenden quadrierten Fehler nach folgender Formel: <b>cost_epoch= (error**2).sum() / 2.0</b>. Dadurch kann später analysiert werden, wie gut der Adline-Algorithmus während des Trainings funktioniert hat. Geben Sie diese Liste als Rückgabewert der Methode zurück.<br>"
   ]
  },
  {
   "cell_type": "code",
   "execution_count": null,
   "metadata": {},
   "outputs": [],
   "source": [
    "import numpy as np\n",
    "import pandas as pd\n",
    "import matplotlib.pyplot as plt\n",
    "from collections import Counter"
   ]
  },
  {
   "cell_type": "markdown",
   "metadata": {},
   "source": [
    "## Datensatz, Training und Visualisierung des Errors"
   ]
  },
  {
   "cell_type": "code",
   "execution_count": null,
   "metadata": {},
   "outputs": [],
   "source": [
    "class Adaline(object):\n",
    "    \n",
    "    def __init__(self, eta=None, epochs=None):\n",
    "        self.eta = eta \n",
    "        self.epochs = epochs\n",
    "        \n",
    "    def gewichtete_summe(self, X):\n",
    "        weightedSum = X.dot(self.w[1:]) + self.w[0]\n",
    "        return weightedSum\n",
    "    \n",
    "    def activation(self, X):\n",
    "        pass\n",
    "    \n",
    "    def fit(self, X, y):\n",
    "        cost = []\n",
    "        numberOfFeatures = X.shape[1]\n",
    "        weights = self.initWeights(numberOfFeatures)\n",
    "        self.w = np.insert(weights,0,[1],axis = 0)\n",
    "        print(f'Initial Weights: {self.w}')\n",
    "        for epoch in range(self.epochs):\n",
    "            net = self.gewichtete_summe(X)\n",
    "            self.activation(net)\n",
    "            error = (y - net)\n",
    "            self.updateWeights(error,X)\n",
    "            cost.append(np.array(error**2).sum()/2.0)    \n",
    "        return cost\n",
    "    \n",
    "    def initWeights(self, size):\n",
    "        mu, sigma = 0, 0.01\n",
    "        return np.random.normal(mu, sigma, size)\n",
    "    \n",
    "    def updateWeights(self, error,X):\n",
    "        self.w[0] += self.eta * sum(error)\n",
    "        self.w[1:] += self.eta * X.T.dot(error)        "
   ]
  },
  {
   "cell_type": "markdown",
   "metadata": {},
   "source": [
    "Wählen Sie denselben Datensatz wie beim Perzeptron. <br>\n",
    "Führen Sie das Training anhand verschiedener Parameter aus und visualisieren Sie die Ergebnisse. <br>"
   ]
  },
  {
   "cell_type": "code",
   "execution_count": null,
   "metadata": {},
   "outputs": [],
   "source": [
    "df = pd.read_csv(\"./Data/iris.data\", header=None, sep=\",\")\n",
    "\n",
    "# Auswahl von setosa und versicolor\n",
    "y = df.loc[((df[4].str.contains('setosa')) | (df[4].str.contains('versicolor')) ), 4].map({'Iris-setosa': 0, 'Iris-versicolor': 1})\n",
    "\n",
    "# Auswahl von Kelch- und Bluetenblattlaenge\n",
    "X = df.loc[y.index, [0, 2]]\n",
    "y = np.array(y)"
   ]
  },
  {
   "cell_type": "code",
   "execution_count": null,
   "metadata": {},
   "outputs": [],
   "source": [
    "# TODO: Implement\n",
    "list_of_epochs = [2,10,20,50,100]\n",
    "list_of_etas = [1,0.1, 0.01, 0.00001, 0.000001, 0.0000001]\n",
    "\n",
    "for epochs in list_of_epochs:\n",
    "    for eta in list_of_etas: \n",
    "    \n",
    "        adaline = Adaline(eta=eta, epochs=epochs)\n",
    "        error = adaline.fit(X,y)\n",
    "        print(error)\n",
    "        plt.plot(range(epochs), error)\n",
    "        plt.ylabel(\"Sum of false classfication per epoch\")\n",
    "        plt.xlabel(\"Epochs\")\n",
    "        plt.title(\"Epochs \" + str(epochs) + \" Learning Rate\" + str(eta))\n",
    "        plt.savefig(\"./Figures/TeilC/\" + str(epochs) + \"_\" +  str(eta).replace(\".\",\"\") + \".png\")\n",
    "        plt.show()"
   ]
  },
  {
   "cell_type": "code",
   "execution_count": null,
   "metadata": {},
   "outputs": [],
   "source": []
  }
 ],
 "metadata": {
  "kernelspec": {
   "display_name": "Python 3",
   "language": "python",
   "name": "python3"
  },
  "language_info": {
   "codemirror_mode": {
    "name": "ipython",
    "version": 3
   },
   "file_extension": ".py",
   "mimetype": "text/x-python",
   "name": "python",
   "nbconvert_exporter": "python",
   "pygments_lexer": "ipython3",
   "version": "3.8.5"
  }
 },
 "nbformat": 4,
 "nbformat_minor": 2
}
